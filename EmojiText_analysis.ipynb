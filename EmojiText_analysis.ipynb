{
 "cells": [
  {
   "cell_type": "code",
   "execution_count": 1,
   "id": "tQFJ7B0oDU1b",
   "metadata": {
    "executionInfo": {
     "elapsed": 31077,
     "status": "ok",
     "timestamp": 1652506426055,
     "user": {
      "displayName": "Alex Udalov",
      "userId": "00364348746059271313"
     },
     "user_tz": 420
    },
    "id": "tQFJ7B0oDU1b"
   },
   "outputs": [],
   "source": [
    "# Download stuff\n",
    "!apt-get install openjdk-8-jdk-headless -qq > /dev/null\n",
    "!wget -q https://archive.apache.org/dist/spark/spark-3.1.2/spark-3.1.2-bin-hadoop3.2.tgz\n",
    "!tar xf spark-3.1.2-bin-hadoop3.2.tgz\n",
    "!pip install -q findspark"
   ]
  },
  {
   "cell_type": "code",
   "execution_count": 2,
   "id": "-DHtOUA5Dnpm",
   "metadata": {
    "executionInfo": {
     "elapsed": 187,
     "status": "ok",
     "timestamp": 1652506451992,
     "user": {
      "displayName": "Alex Udalov",
      "userId": "00364348746059271313"
     },
     "user_tz": 420
    },
    "id": "-DHtOUA5Dnpm"
   },
   "outputs": [],
   "source": [
    "import os\n",
    "os.environ[\"JAVA_HOME\"] = \"/usr/lib/jvm/java-8-openjdk-amd64\"\n",
    "os.environ[\"SPARK_HOME\"] = \"/content/spark-3.1.2-bin-hadoop3.2\""
   ]
  },
  {
   "cell_type": "code",
   "execution_count": 24,
   "id": "742da6a8",
   "metadata": {
    "colab": {
     "base_uri": "https://localhost:8080/"
    },
    "executionInfo": {
     "elapsed": 140,
     "status": "ok",
     "timestamp": 1652512326436,
     "user": {
      "displayName": "Alex Udalov",
      "userId": "00364348746059271313"
     },
     "user_tz": 420
    },
    "id": "742da6a8",
    "outputId": "ff76affe-742c-4c0f-f1c7-4555afc9b459"
   },
   "outputs": [
    {
     "data": {
      "text/plain": [
       "<property at 0x7f530869b2f0>"
      ]
     },
     "execution_count": 24,
     "metadata": {},
     "output_type": "execute_result"
    }
   ],
   "source": [
    "import findspark\n",
    "findspark.init()\n",
    "from pyspark.sql import SparkSession\n",
    "from pyspark import SparkConf, SparkContext\n",
    "from datetime import datetime, date, timedelta\n",
    "from dateutil import relativedelta\n",
    "from pyspark.sql import SQLContext, Row\n",
    "from pyspark.sql.types import *\n",
    "from pyspark.sql.functions import *\n",
    "from pyspark.sql import DataFrame\n",
    "from pyspark.sql.functions import *\n",
    "from pyspark.sql.functions import to_timestamp, to_date\n",
    "from pyspark.sql import functions as F  \n",
    "from pyspark.sql.functions import collect_list, collect_set, concat, first, array_distinct, col, size, expr\n",
    "from pyspark.sql import DataFrame \n",
    "import random\n",
    "import pandas as pd\n",
    "import numpy as np\n",
    "import re\n",
    "import matplotlib.pyplot as plt\n",
    "SparkContext.version\n",
    "\n"
   ]
  },
  {
   "cell_type": "code",
   "execution_count": 5,
   "id": "kkv-sIS1D4Aq",
   "metadata": {
    "colab": {
     "base_uri": "https://localhost:8080/"
    },
    "executionInfo": {
     "elapsed": 6669,
     "status": "ok",
     "timestamp": 1652506612069,
     "user": {
      "displayName": "Alex Udalov",
      "userId": "00364348746059271313"
     },
     "user_tz": 420
    },
    "id": "kkv-sIS1D4Aq",
    "outputId": "e2590798-d151-49c9-ba32-1b93ff699d79"
   },
   "outputs": [
    {
     "data": {
      "text/plain": [
       "[('spark.app.id', 'local-1652506609828'),\n",
       " ('spark.driver.port', '36171'),\n",
       " ('spark.executor.id', 'driver'),\n",
       " ('spark.sql.warehouse.dir', 'file:/content/spark-warehouse'),\n",
       " ('spark.driver.host', '90c88447b531'),\n",
       " ('spark.executor.cores', '6'),\n",
       " ('spark.app.startTime', '1652506608357'),\n",
       " ('spark.executor.memory', '10gb'),\n",
       " ('spark.rdd.compress', 'True'),\n",
       " ('spark.serializer.objectStreamReset', '100'),\n",
       " ('spark.cores.max', '8'),\n",
       " ('spark.master', 'local[*]'),\n",
       " ('spark.submit.pyFiles', ''),\n",
       " ('spark.submit.deployMode', 'client'),\n",
       " ('spark.app.name', 'Venmo'),\n",
       " ('spark.ui.showConsoleProgress', 'true')]"
      ]
     },
     "execution_count": 5,
     "metadata": {},
     "output_type": "execute_result"
    }
   ],
   "source": [
    "# Spark setup\n",
    "spark = SparkSession.builder \\\n",
    "        .master('local[*]') \\\n",
    "        .appName('Venmo') \\\n",
    "        .config('spark.executor.memory', '10gb') \\\n",
    "        .config(\"spark.cores.max\", \"8\") \\\n",
    "        .config(\"spark.executor.cores\", \"6\") \\\n",
    "        .getOrCreate()\n",
    "\n",
    "spark.sparkContext.getConf().getAll()"
   ]
  },
  {
   "cell_type": "code",
   "execution_count": 6,
   "id": "b0f70a73",
   "metadata": {
    "executionInfo": {
     "elapsed": 5327,
     "status": "ok",
     "timestamp": 1652508093447,
     "user": {
      "displayName": "Alex Udalov",
      "userId": "00364348746059271313"
     },
     "user_tz": 420
    },
    "id": "b0f70a73"
   },
   "outputs": [],
   "source": [
    "data1 = spark.read.parquet('VenmoSample.snappy.parquet')\n",
    "data_dict = pd.read_csv('Venmo_Emoji_Classification_Dictionary.csv')\n",
    "data_dict_text = pd.read_csv('Venmo Word Classification Dictonary Dict.csv')\n",
    "# Words Added: \n",
    "# 1. surf - activity\n",
    "# 2. sun - travel\n",
    "# 3. sea - travel\n",
    "# 4. ocean - travel\n",
    "# 5. mail - transportation\n",
    "# 6. marvel - activity\n",
    "# 7. avengers - activity\n",
    "# 8. dividend - cash\n",
    "# 9. crypto - cash\n",
    "# 10. greece - travel"
   ]
  },
  {
   "cell_type": "code",
   "execution_count": 7,
   "id": "0c1a5d1e",
   "metadata": {
    "colab": {
     "base_uri": "https://localhost:8080/"
    },
    "executionInfo": {
     "elapsed": 3748,
     "status": "ok",
     "timestamp": 1652508101960,
     "user": {
      "displayName": "Alex Udalov",
      "userId": "00364348746059271313"
     },
     "user_tz": 420
    },
    "id": "0c1a5d1e",
    "outputId": "2e01b7be-a2d0-4730-b1db-1c8e3ac39cfc"
   },
   "outputs": [
    {
     "name": "stdout",
     "output_type": "stream",
     "text": [
      "+-------+-------+----------------+-------------------+------------+-----------+--------------------+\n",
      "|  user1|  user2|transaction_type|           datetime| description|is_business|            story_id|\n",
      "+-------+-------+----------------+-------------------+------------+-----------+--------------------+\n",
      "|1218774|1528945|         payment|2015-11-27 10:48:19|        Uber|      false|5657c473cd03c9af2...|\n",
      "|5109483|4782303|         payment|2015-06-17 11:37:04|      Costco|      false|5580f9702b64f70ab...|\n",
      "|4322148|3392963|         payment|2015-06-19 07:05:31|Sweaty balls|      false|55835ccb1a624b14a...|\n",
      "| 469894|1333620|          charge|2016-06-03 23:34:13|          🎥|      false|5751b185cd03c9af2...|\n",
      "|2960727|3442373|         payment|2016-05-29 23:23:42|           ⚡|      false|574b178ecd03c9af2...|\n",
      "+-------+-------+----------------+-------------------+------------+-----------+--------------------+\n",
      "only showing top 5 rows\n",
      "\n"
     ]
    }
   ],
   "source": [
    "# data1.schema\n",
    "data1.createOrReplaceTempView(\"data1\")\n",
    "data1.show(5)"
   ]
  },
  {
   "cell_type": "code",
   "execution_count": 8,
   "id": "e325c7df",
   "metadata": {
    "colab": {
     "base_uri": "https://localhost:8080/",
     "height": 206
    },
    "executionInfo": {
     "elapsed": 138,
     "status": "ok",
     "timestamp": 1652508104923,
     "user": {
      "displayName": "Alex Udalov",
      "userId": "00364348746059271313"
     },
     "user_tz": 420
    },
    "id": "e325c7df",
    "outputId": "f529d767-a535-4f38-e847-e7f8a941d8b4"
   },
   "outputs": [
    {
     "data": {
      "text/html": [
       "\n",
       "  <div id=\"df-b91f0d69-15fa-4ebe-b0fd-0598d3c2f9cb\">\n",
       "    <div class=\"colab-df-container\">\n",
       "      <div>\n",
       "<style scoped>\n",
       "    .dataframe tbody tr th:only-of-type {\n",
       "        vertical-align: middle;\n",
       "    }\n",
       "\n",
       "    .dataframe tbody tr th {\n",
       "        vertical-align: top;\n",
       "    }\n",
       "\n",
       "    .dataframe thead th {\n",
       "        text-align: right;\n",
       "    }\n",
       "</style>\n",
       "<table border=\"1\" class=\"dataframe\">\n",
       "  <thead>\n",
       "    <tr style=\"text-align: right;\">\n",
       "      <th></th>\n",
       "      <th>Event</th>\n",
       "      <th>Travel</th>\n",
       "      <th>Food</th>\n",
       "      <th>Activity</th>\n",
       "      <th>Transportation</th>\n",
       "      <th>People</th>\n",
       "      <th>Utility</th>\n",
       "    </tr>\n",
       "  </thead>\n",
       "  <tbody>\n",
       "    <tr>\n",
       "      <th>0</th>\n",
       "      <td>🇦🇺</td>\n",
       "      <td>🏔</td>\n",
       "      <td>🍇</td>\n",
       "      <td>👾</td>\n",
       "      <td>🚄</td>\n",
       "      <td>😀</td>\n",
       "      <td>⚡</td>\n",
       "    </tr>\n",
       "    <tr>\n",
       "      <th>1</th>\n",
       "      <td>🇫🇷</td>\n",
       "      <td>⛰</td>\n",
       "      <td>🍈</td>\n",
       "      <td>🕴</td>\n",
       "      <td>🚅</td>\n",
       "      <td>😃</td>\n",
       "      <td>💡</td>\n",
       "    </tr>\n",
       "    <tr>\n",
       "      <th>2</th>\n",
       "      <td>🎂</td>\n",
       "      <td>🌋</td>\n",
       "      <td>🍉</td>\n",
       "      <td>🎪</td>\n",
       "      <td>🚆</td>\n",
       "      <td>😄</td>\n",
       "      <td>🔌</td>\n",
       "    </tr>\n",
       "    <tr>\n",
       "      <th>3</th>\n",
       "      <td>🛍</td>\n",
       "      <td>🗻</td>\n",
       "      <td>🍊</td>\n",
       "      <td>🎭</td>\n",
       "      <td>🚇</td>\n",
       "      <td>😁</td>\n",
       "      <td>📺</td>\n",
       "    </tr>\n",
       "    <tr>\n",
       "      <th>4</th>\n",
       "      <td>🇨🇦</td>\n",
       "      <td>🏕</td>\n",
       "      <td>🍋</td>\n",
       "      <td>🎨</td>\n",
       "      <td>🚈</td>\n",
       "      <td>😆</td>\n",
       "      <td>🔌</td>\n",
       "    </tr>\n",
       "  </tbody>\n",
       "</table>\n",
       "</div>\n",
       "      <button class=\"colab-df-convert\" onclick=\"convertToInteractive('df-b91f0d69-15fa-4ebe-b0fd-0598d3c2f9cb')\"\n",
       "              title=\"Convert this dataframe to an interactive table.\"\n",
       "              style=\"display:none;\">\n",
       "        \n",
       "  <svg xmlns=\"http://www.w3.org/2000/svg\" height=\"24px\"viewBox=\"0 0 24 24\"\n",
       "       width=\"24px\">\n",
       "    <path d=\"M0 0h24v24H0V0z\" fill=\"none\"/>\n",
       "    <path d=\"M18.56 5.44l.94 2.06.94-2.06 2.06-.94-2.06-.94-.94-2.06-.94 2.06-2.06.94zm-11 1L8.5 8.5l.94-2.06 2.06-.94-2.06-.94L8.5 2.5l-.94 2.06-2.06.94zm10 10l.94 2.06.94-2.06 2.06-.94-2.06-.94-.94-2.06-.94 2.06-2.06.94z\"/><path d=\"M17.41 7.96l-1.37-1.37c-.4-.4-.92-.59-1.43-.59-.52 0-1.04.2-1.43.59L10.3 9.45l-7.72 7.72c-.78.78-.78 2.05 0 2.83L4 21.41c.39.39.9.59 1.41.59.51 0 1.02-.2 1.41-.59l7.78-7.78 2.81-2.81c.8-.78.8-2.07 0-2.86zM5.41 20L4 18.59l7.72-7.72 1.47 1.35L5.41 20z\"/>\n",
       "  </svg>\n",
       "      </button>\n",
       "      \n",
       "  <style>\n",
       "    .colab-df-container {\n",
       "      display:flex;\n",
       "      flex-wrap:wrap;\n",
       "      gap: 12px;\n",
       "    }\n",
       "\n",
       "    .colab-df-convert {\n",
       "      background-color: #E8F0FE;\n",
       "      border: none;\n",
       "      border-radius: 50%;\n",
       "      cursor: pointer;\n",
       "      display: none;\n",
       "      fill: #1967D2;\n",
       "      height: 32px;\n",
       "      padding: 0 0 0 0;\n",
       "      width: 32px;\n",
       "    }\n",
       "\n",
       "    .colab-df-convert:hover {\n",
       "      background-color: #E2EBFA;\n",
       "      box-shadow: 0px 1px 2px rgba(60, 64, 67, 0.3), 0px 1px 3px 1px rgba(60, 64, 67, 0.15);\n",
       "      fill: #174EA6;\n",
       "    }\n",
       "\n",
       "    [theme=dark] .colab-df-convert {\n",
       "      background-color: #3B4455;\n",
       "      fill: #D2E3FC;\n",
       "    }\n",
       "\n",
       "    [theme=dark] .colab-df-convert:hover {\n",
       "      background-color: #434B5C;\n",
       "      box-shadow: 0px 1px 3px 1px rgba(0, 0, 0, 0.15);\n",
       "      filter: drop-shadow(0px 1px 2px rgba(0, 0, 0, 0.3));\n",
       "      fill: #FFFFFF;\n",
       "    }\n",
       "  </style>\n",
       "\n",
       "      <script>\n",
       "        const buttonEl =\n",
       "          document.querySelector('#df-b91f0d69-15fa-4ebe-b0fd-0598d3c2f9cb button.colab-df-convert');\n",
       "        buttonEl.style.display =\n",
       "          google.colab.kernel.accessAllowed ? 'block' : 'none';\n",
       "\n",
       "        async function convertToInteractive(key) {\n",
       "          const element = document.querySelector('#df-b91f0d69-15fa-4ebe-b0fd-0598d3c2f9cb');\n",
       "          const dataTable =\n",
       "            await google.colab.kernel.invokeFunction('convertToInteractive',\n",
       "                                                     [key], {});\n",
       "          if (!dataTable) return;\n",
       "\n",
       "          const docLinkHtml = 'Like what you see? Visit the ' +\n",
       "            '<a target=\"_blank\" href=https://colab.research.google.com/notebooks/data_table.ipynb>data table notebook</a>'\n",
       "            + ' to learn more about interactive tables.';\n",
       "          element.innerHTML = '';\n",
       "          dataTable['output_type'] = 'display_data';\n",
       "          await google.colab.output.renderOutput(dataTable, element);\n",
       "          const docLink = document.createElement('div');\n",
       "          docLink.innerHTML = docLinkHtml;\n",
       "          element.appendChild(docLink);\n",
       "        }\n",
       "      </script>\n",
       "    </div>\n",
       "  </div>\n",
       "  "
      ],
      "text/plain": [
       "  Event Travel Food Activity Transportation People Utility\n",
       "0    🇦🇺      🏔    🍇        👾              🚄      😀       ⚡\n",
       "1    🇫🇷      ⛰    🍈        🕴              🚅      😃       💡\n",
       "2     🎂      🌋    🍉        🎪              🚆      😄       🔌\n",
       "3     🛍      🗻    🍊        🎭              🚇      😁       📺\n",
       "4    🇨🇦      🏕    🍋        🎨              🚈      😆       🔌"
      ]
     },
     "execution_count": 8,
     "metadata": {},
     "output_type": "execute_result"
    }
   ],
   "source": [
    "data_dict.head(5)"
   ]
  },
  {
   "cell_type": "code",
   "execution_count": 9,
   "id": "c34035ad",
   "metadata": {
    "colab": {
     "base_uri": "https://localhost:8080/",
     "height": 206
    },
    "executionInfo": {
     "elapsed": 158,
     "status": "ok",
     "timestamp": 1652508107539,
     "user": {
      "displayName": "Alex Udalov",
      "userId": "00364348746059271313"
     },
     "user_tz": 420
    },
    "id": "c34035ad",
    "outputId": "5158b9d8-2c1a-4721-cb33-f4bf5f474514"
   },
   "outputs": [
    {
     "data": {
      "text/html": [
       "\n",
       "  <div id=\"df-30240e94-5d8c-4555-af05-9b0ba1395aea\">\n",
       "    <div class=\"colab-df-container\">\n",
       "      <div>\n",
       "<style scoped>\n",
       "    .dataframe tbody tr th:only-of-type {\n",
       "        vertical-align: middle;\n",
       "    }\n",
       "\n",
       "    .dataframe tbody tr th {\n",
       "        vertical-align: top;\n",
       "    }\n",
       "\n",
       "    .dataframe thead th {\n",
       "        text-align: right;\n",
       "    }\n",
       "</style>\n",
       "<table border=\"1\" class=\"dataframe\">\n",
       "  <thead>\n",
       "    <tr style=\"text-align: right;\">\n",
       "      <th></th>\n",
       "      <th>People</th>\n",
       "      <th>Food</th>\n",
       "      <th>Event</th>\n",
       "      <th>Activity</th>\n",
       "      <th>Travel</th>\n",
       "      <th>Transportation</th>\n",
       "      <th>Utility</th>\n",
       "      <th>Cash</th>\n",
       "      <th>Illegal/Sarcasm</th>\n",
       "    </tr>\n",
       "  </thead>\n",
       "  <tbody>\n",
       "    <tr>\n",
       "      <th>0</th>\n",
       "      <td>friend</td>\n",
       "      <td>food</td>\n",
       "      <td>birthday</td>\n",
       "      <td>ball</td>\n",
       "      <td>beach</td>\n",
       "      <td>lyft</td>\n",
       "      <td>bill</td>\n",
       "      <td>atm</td>\n",
       "      <td>addiction</td>\n",
       "    </tr>\n",
       "    <tr>\n",
       "      <th>1</th>\n",
       "      <td>friendship</td>\n",
       "      <td>bbq</td>\n",
       "      <td>christmas</td>\n",
       "      <td>boat</td>\n",
       "      <td>place</td>\n",
       "      <td>uber</td>\n",
       "      <td>cable</td>\n",
       "      <td>bank</td>\n",
       "      <td>drug</td>\n",
       "    </tr>\n",
       "    <tr>\n",
       "      <th>2</th>\n",
       "      <td>baby</td>\n",
       "      <td>bean</td>\n",
       "      <td>happy</td>\n",
       "      <td>bar</td>\n",
       "      <td>la</td>\n",
       "      <td>cab</td>\n",
       "      <td>fee</td>\n",
       "      <td>cash</td>\n",
       "      <td>wangs</td>\n",
       "    </tr>\n",
       "    <tr>\n",
       "      <th>3</th>\n",
       "      <td>boy</td>\n",
       "      <td>latte</td>\n",
       "      <td>bday</td>\n",
       "      <td>book</td>\n",
       "      <td>world</td>\n",
       "      <td>bus</td>\n",
       "      <td>electric</td>\n",
       "      <td>money</td>\n",
       "      <td>weed</td>\n",
       "    </tr>\n",
       "    <tr>\n",
       "      <th>4</th>\n",
       "      <td>girl</td>\n",
       "      <td>breakfast</td>\n",
       "      <td>wedding</td>\n",
       "      <td>club</td>\n",
       "      <td>hotel</td>\n",
       "      <td>car</td>\n",
       "      <td>electricity</td>\n",
       "      <td>buck</td>\n",
       "      <td>anal</td>\n",
       "    </tr>\n",
       "  </tbody>\n",
       "</table>\n",
       "</div>\n",
       "      <button class=\"colab-df-convert\" onclick=\"convertToInteractive('df-30240e94-5d8c-4555-af05-9b0ba1395aea')\"\n",
       "              title=\"Convert this dataframe to an interactive table.\"\n",
       "              style=\"display:none;\">\n",
       "        \n",
       "  <svg xmlns=\"http://www.w3.org/2000/svg\" height=\"24px\"viewBox=\"0 0 24 24\"\n",
       "       width=\"24px\">\n",
       "    <path d=\"M0 0h24v24H0V0z\" fill=\"none\"/>\n",
       "    <path d=\"M18.56 5.44l.94 2.06.94-2.06 2.06-.94-2.06-.94-.94-2.06-.94 2.06-2.06.94zm-11 1L8.5 8.5l.94-2.06 2.06-.94-2.06-.94L8.5 2.5l-.94 2.06-2.06.94zm10 10l.94 2.06.94-2.06 2.06-.94-2.06-.94-.94-2.06-.94 2.06-2.06.94z\"/><path d=\"M17.41 7.96l-1.37-1.37c-.4-.4-.92-.59-1.43-.59-.52 0-1.04.2-1.43.59L10.3 9.45l-7.72 7.72c-.78.78-.78 2.05 0 2.83L4 21.41c.39.39.9.59 1.41.59.51 0 1.02-.2 1.41-.59l7.78-7.78 2.81-2.81c.8-.78.8-2.07 0-2.86zM5.41 20L4 18.59l7.72-7.72 1.47 1.35L5.41 20z\"/>\n",
       "  </svg>\n",
       "      </button>\n",
       "      \n",
       "  <style>\n",
       "    .colab-df-container {\n",
       "      display:flex;\n",
       "      flex-wrap:wrap;\n",
       "      gap: 12px;\n",
       "    }\n",
       "\n",
       "    .colab-df-convert {\n",
       "      background-color: #E8F0FE;\n",
       "      border: none;\n",
       "      border-radius: 50%;\n",
       "      cursor: pointer;\n",
       "      display: none;\n",
       "      fill: #1967D2;\n",
       "      height: 32px;\n",
       "      padding: 0 0 0 0;\n",
       "      width: 32px;\n",
       "    }\n",
       "\n",
       "    .colab-df-convert:hover {\n",
       "      background-color: #E2EBFA;\n",
       "      box-shadow: 0px 1px 2px rgba(60, 64, 67, 0.3), 0px 1px 3px 1px rgba(60, 64, 67, 0.15);\n",
       "      fill: #174EA6;\n",
       "    }\n",
       "\n",
       "    [theme=dark] .colab-df-convert {\n",
       "      background-color: #3B4455;\n",
       "      fill: #D2E3FC;\n",
       "    }\n",
       "\n",
       "    [theme=dark] .colab-df-convert:hover {\n",
       "      background-color: #434B5C;\n",
       "      box-shadow: 0px 1px 3px 1px rgba(0, 0, 0, 0.15);\n",
       "      filter: drop-shadow(0px 1px 2px rgba(0, 0, 0, 0.3));\n",
       "      fill: #FFFFFF;\n",
       "    }\n",
       "  </style>\n",
       "\n",
       "      <script>\n",
       "        const buttonEl =\n",
       "          document.querySelector('#df-30240e94-5d8c-4555-af05-9b0ba1395aea button.colab-df-convert');\n",
       "        buttonEl.style.display =\n",
       "          google.colab.kernel.accessAllowed ? 'block' : 'none';\n",
       "\n",
       "        async function convertToInteractive(key) {\n",
       "          const element = document.querySelector('#df-30240e94-5d8c-4555-af05-9b0ba1395aea');\n",
       "          const dataTable =\n",
       "            await google.colab.kernel.invokeFunction('convertToInteractive',\n",
       "                                                     [key], {});\n",
       "          if (!dataTable) return;\n",
       "\n",
       "          const docLinkHtml = 'Like what you see? Visit the ' +\n",
       "            '<a target=\"_blank\" href=https://colab.research.google.com/notebooks/data_table.ipynb>data table notebook</a>'\n",
       "            + ' to learn more about interactive tables.';\n",
       "          element.innerHTML = '';\n",
       "          dataTable['output_type'] = 'display_data';\n",
       "          await google.colab.output.renderOutput(dataTable, element);\n",
       "          const docLink = document.createElement('div');\n",
       "          docLink.innerHTML = docLinkHtml;\n",
       "          element.appendChild(docLink);\n",
       "        }\n",
       "      </script>\n",
       "    </div>\n",
       "  </div>\n",
       "  "
      ],
      "text/plain": [
       "       People       Food      Event Activity Travel Transportation  \\\n",
       "0      friend       food   birthday     ball  beach           lyft   \n",
       "1  friendship        bbq  christmas     boat  place           uber   \n",
       "2        baby       bean      happy      bar     la            cab   \n",
       "3         boy      latte       bday     book  world            bus   \n",
       "4        girl  breakfast    wedding     club  hotel            car   \n",
       "\n",
       "       Utility   Cash Illegal/Sarcasm  \n",
       "0         bill   atm        addiction  \n",
       "1        cable  bank             drug  \n",
       "2          fee  cash            wangs  \n",
       "3     electric  money            weed  \n",
       "4  electricity   buck            anal  "
      ]
     },
     "execution_count": 9,
     "metadata": {},
     "output_type": "execute_result"
    }
   ],
   "source": [
    "data_dict_text.head(5)"
   ]
  },
  {
   "cell_type": "markdown",
   "id": "830842c2",
   "metadata": {
    "id": "830842c2"
   },
   "source": [
    "## Here I use the text dictionary and the emoji dictionary to classify some Venmo transactions "
   ]
  },
  {
   "cell_type": "markdown",
   "id": "afafe7c1",
   "metadata": {
    "id": "afafe7c1"
   },
   "source": [
    "# Emoji"
   ]
  },
  {
   "cell_type": "code",
   "execution_count": 10,
   "id": "c16b38ef",
   "metadata": {
    "colab": {
     "base_uri": "https://localhost:8080/"
    },
    "executionInfo": {
     "elapsed": 1250,
     "status": "ok",
     "timestamp": 1652508114197,
     "user": {
      "displayName": "Alex Udalov",
      "userId": "00364348746059271313"
     },
     "user_tz": 420
    },
    "id": "c16b38ef",
    "outputId": "9606bec8-6c29-4fcf-e545-6f6cf1d78aeb"
   },
   "outputs": [
    {
     "name": "stdout",
     "output_type": "stream",
     "text": [
      "+--------------------+--------+-------------------+-----------+\n",
      "|            story_id|  sender|           datetime|description|\n",
      "+--------------------+--------+-------------------+-----------+\n",
      "|5751b185cd03c9af2...|  469894|2016-06-03 23:34:13|         🎥|\n",
      "|574b178ecd03c9af2...| 2960727|2016-05-29 23:23:42|          ⚡|\n",
      "|5689c6bdcd03c9af2...| 5317324|2016-01-04 09:11:25|         👠|\n",
      "|561080a1cd03c9af2...| 4238868|2015-10-04 08:28:01|         🍺|\n",
      "|577e69e723e064eac...|11719500|2016-07-07 21:40:39|          ⛽|\n",
      "+--------------------+--------+-------------------+-----------+\n",
      "only showing top 5 rows\n",
      "\n"
     ]
    }
   ],
   "source": [
    "emojiOnlyData = spark.sql('''\n",
    "select\n",
    "story_id,\n",
    "user1 as sender,\n",
    "datetime,\n",
    "description\n",
    "from data1\n",
    "where 1=1\n",
    "and HEX(description) REGEXP '^[E2|F0]{2}'\n",
    "and description NOT REGEXP '[g-zG-Z\\\\?\\\\!\\\\\\\\\\.]'\n",
    "''')\n",
    "\n",
    "emojiOnlyData.createOrReplaceTempView(\"emojiOnlyData\")\n",
    "emojiOnlyData.show(5)"
   ]
  },
  {
   "cell_type": "code",
   "execution_count": 11,
   "id": "4c1e0fba",
   "metadata": {
    "colab": {
     "base_uri": "https://localhost:8080/"
    },
    "executionInfo": {
     "elapsed": 1286,
     "status": "ok",
     "timestamp": 1652508121972,
     "user": {
      "displayName": "Alex Udalov",
      "userId": "00364348746059271313"
     },
     "user_tz": 420
    },
    "id": "4c1e0fba",
    "outputId": "0cdfb8c9-7d90-4cb3-ef7e-952a1c5098b5"
   },
   "outputs": [
    {
     "name": "stdout",
     "output_type": "stream",
     "text": [
      "+--------------------+--------+-------------------+----------------+---------+\n",
      "|            story_id|  sender|           datetime|     description|    class|\n",
      "+--------------------+--------+-------------------+----------------+---------+\n",
      "|5751b185cd03c9af2...|  469894|2016-06-03 23:34:13|              🎥|    event|\n",
      "|574b178ecd03c9af2...| 2960727|2016-05-29 23:23:42|               ⚡|  utility|\n",
      "|5689c6bdcd03c9af2...| 5317324|2016-01-04 09:11:25|              👠|    other|\n",
      "|561080a1cd03c9af2...| 4238868|2015-10-04 08:28:01|              🍺|     food|\n",
      "|577e69e723e064eac...|11719500|2016-07-07 21:40:39|               ⛽|transport|\n",
      "|570866c2cd03c9af2...| 9414481|2016-04-09 09:19:46|              🔴|    other|\n",
      "|528e752fd56b6bac5...|  444145|2013-11-22 05:03:43|            ✌❤🏈| activity|\n",
      "|5574690d5d6cc8135...|  270958|2015-06-07 22:53:49|            👰👰|    event|\n",
      "|56803e8dcd03c9af2...| 1243615|2015-12-28 03:39:57|          🍕🍕🍕|     food|\n",
      "|5577a133ca81793e3...| 2743865|2015-06-10 09:30:11|              🍕|     food|\n",
      "|563eda6acd03c9af2...| 4771561|2015-11-08 13:15:22|              🎉| activity|\n",
      "|57369a6ecd03c9af2...| 2717185|2016-05-14 10:24:30|          🍴🍴🍴|     food|\n",
      "|570149bbcd03c9af2...|  884214|2016-04-03 23:50:03|      ☕️🍴🍰🍳🎂|    event|\n",
      "|574ccdeacd03c9af2...| 2443367|2016-05-31 06:34:02|              🏡|    other|\n",
      "|56fed8c8cd03c9af2...| 6914966|2016-04-02 03:23:36|              💣|    other|\n",
      "|562c19c2cd03c9af2...| 1217777|2015-10-25 06:52:34|              🌮|     food|\n",
      "|57a7c84823e064eac...|  349302|2016-08-08 06:46:16|              🍵|     food|\n",
      "|57d089e523e064eac...| 3732788|2016-09-08 04:43:00|              ⚡️|  utility|\n",
      "|53e7cb427d0b0354e...| 1038481|2014-08-11 02:42:58|❤️❤️❤️❤️👯👯👯😻|   people|\n",
      "|57fc1bd323e064eac...| 2725725|2016-10-11 05:53:07|               ☕|     food|\n",
      "+--------------------+--------+-------------------+----------------+---------+\n",
      "only showing top 20 rows\n",
      "\n"
     ]
    }
   ],
   "source": [
    "# lists of emoji types\n",
    "event = data_dict.Event.dropna(how='all').values.tolist()\n",
    "travel = data_dict.Travel.dropna(how='all').values.tolist()\n",
    "food = data_dict.Food.dropna(how='all').values.tolist()\n",
    "activity = data_dict.Activity.dropna(how='all').values.tolist()\n",
    "transport = data_dict.Transportation.dropna(how='all').values.tolist()\n",
    "people = data_dict.People.dropna(how='all').values.tolist()\n",
    "utility = data_dict.Utility.dropna(how='all').values.tolist()\n",
    "\n",
    "\n",
    "\n",
    "\n",
    "# emoji classification\n",
    "emoji_classified = emojiOnlyData.select(\"*\", \n",
    "    when(emojiOnlyData.description.rlike(\"|\".join([\"(\" + em + \")\" for em in event])), 'event')\\\n",
    " .when(emojiOnlyData.description.rlike(\"|\".join([\"(\" + em + \")\" for em in travel])), 'travel') \\\n",
    " .when(emojiOnlyData.description.rlike(\"|\".join([\"(\" + em + \")\" for em in food])), 'food')\\\n",
    " .when(emojiOnlyData.description.rlike(\"|\".join([\"(\" + em + \")\" for em in activity])), 'activity')\\\n",
    " .when(emojiOnlyData.description.rlike(\"|\".join([\"(\" + em + \")\" for em in transport])), 'transport')\\\n",
    " .when(emojiOnlyData.description.rlike(\"|\".join([\"(\" + em + \")\" for em in people])), 'people')\\\n",
    " .when(emojiOnlyData.description.rlike(\"|\".join([\"(\" + em + \")\" for em in utility])), 'utility')\\\n",
    " .otherwise('other').alias('class'))\n",
    "\n",
    "\n",
    "emoji_classified.createOrReplaceTempView(\"emoji_classified\")\n",
    "emoji_classified.show(20)"
   ]
  },
  {
   "cell_type": "markdown",
   "id": "0ae8c894",
   "metadata": {
    "id": "0ae8c894"
   },
   "source": [
    "# Text"
   ]
  },
  {
   "cell_type": "code",
   "execution_count": 12,
   "id": "d7c33f59",
   "metadata": {
    "colab": {
     "base_uri": "https://localhost:8080/"
    },
    "executionInfo": {
     "elapsed": 16053,
     "status": "ok",
     "timestamp": 1652508146702,
     "user": {
      "displayName": "Alex Udalov",
      "userId": "00364348746059271313"
     },
     "user_tz": 420
    },
    "id": "d7c33f59",
    "outputId": "73fb2a11-cb25-4214-c7c0-0fb371fbd776"
   },
   "outputs": [
    {
     "name": "stdout",
     "output_type": "stream",
     "text": [
      "+--------------------+-------+-------------------+---------------+\n",
      "|            story_id| sender|           datetime|    description|\n",
      "+--------------------+-------+-------------------+---------------+\n",
      "|5657c473cd03c9af2...|1218774|2015-11-27 10:48:19|           Uber|\n",
      "|5580f9702b64f70ab...|5109483|2015-06-17 11:37:04|         Costco|\n",
      "|55835ccb1a624b14a...|4322148|2015-06-19 07:05:31|   Sweaty balls|\n",
      "|57ed2f4723e064eac...|3977544|2016-09-29 22:12:07|     Chipotlaid|\n",
      "|573e8503cd03c9af2...|3766386|2016-05-20 10:31:15|kitchen counter|\n",
      "+--------------------+-------+-------------------+---------------+\n",
      "only showing top 5 rows\n",
      "\n"
     ]
    }
   ],
   "source": [
    "textEmojiData = spark.sql('''\n",
    "select\n",
    "story_id,\n",
    "user1 as sender,\n",
    "datetime,\n",
    "description\n",
    "from data1\n",
    "where 1=1\n",
    "and story_id not in(select distinct\n",
    "                    story_id\n",
    "                    from emojiOnlyData)\n",
    "''')\n",
    "\n",
    "textEmojiData.createOrReplaceTempView(\"textEmojiData\")\n",
    "textEmojiData.show(5)"
   ]
  },
  {
   "cell_type": "code",
   "execution_count": 13,
   "id": "c26e5c9a",
   "metadata": {
    "colab": {
     "base_uri": "https://localhost:8080/"
    },
    "executionInfo": {
     "elapsed": 12252,
     "status": "ok",
     "timestamp": 1652508158950,
     "user": {
      "displayName": "Alex Udalov",
      "userId": "00364348746059271313"
     },
     "user_tz": 420
    },
    "id": "c26e5c9a",
    "outputId": "0af2fb30-8a9f-4e65-bd68-c4e8e488ad54"
   },
   "outputs": [
    {
     "name": "stdout",
     "output_type": "stream",
     "text": [
      "+--------------------+-------+-------------------+--------------------+---------------+\n",
      "|            story_id| sender|           datetime|         description|          class|\n",
      "+--------------------+-------+-------------------+--------------------+---------------+\n",
      "|5657c473cd03c9af2...|1218774|2015-11-27 10:48:19|                Uber|          other|\n",
      "|5580f9702b64f70ab...|5109483|2015-06-17 11:37:04|              Costco|          other|\n",
      "|55835ccb1a624b14a...|4322148|2015-06-19 07:05:31|        Sweaty balls|           food|\n",
      "|57ed2f4723e064eac...|3977544|2016-09-29 22:12:07|          Chipotlaid|          event|\n",
      "|573e8503cd03c9af2...|3766386|2016-05-20 10:31:15|     kitchen counter|           food|\n",
      "|57461d46cd03c9af2...| 730075|2016-05-26 04:46:45|                Food|          other|\n",
      "|5787b58d23e064eac...|5221751|2016-07-14 22:53:49|               Zaxby|          other|\n",
      "|57c64fdf23e064eac...|6843582|2016-08-31 10:32:46|           Fan sucks|illegal/sarcasm|\n",
      "|5616bbc0cd03c9af2...|1134661|2015-10-09 01:53:52|         Thanks babe|         people|\n",
      "|58032fad23e064eac...|3625798|2016-10-16 14:43:41|Hey man  it's bee...|         travel|\n",
      "|572d2bd9cd03c9af2...| 613908|2016-05-07 06:42:17|         Getaway car|      transport|\n",
      "|56cd03e4cd03c9af2...|4682257|2016-02-24 09:14:12|     🔮 gypsy things|          other|\n",
      "|5557cc0407f81c33e...| 241386|2015-05-17 06:00:19|           Furniture|          other|\n",
      "|52ac6e93d56b6bac5...| 656477|2013-12-14 22:43:27|bed bath mostly b...|         people|\n",
      "|5637cb37cd03c9af2...|7077930|2015-11-03 04:44:39|                 Fun|          other|\n",
      "|53c711f87d0b0354e...| 219836|2014-07-17 06:59:52|    World Cup Stacks|        utility|\n",
      "|58069a6423e064eac...|6222232|2016-10-19 04:55:48|You're lucky we d...|        utility|\n",
      "|556a56e94b9f431ba...|1958142|2015-05-31 07:33:45|      Cable part 2..|       activity|\n",
      "|53c17b407d0b0354e...| 470775|2014-07-13 01:15:28|               Benny|          other|\n",
      "|549de943ca134c404...| 801230|2014-12-27 07:03:31|               Blurb|          other|\n",
      "+--------------------+-------+-------------------+--------------------+---------------+\n",
      "only showing top 20 rows\n",
      "\n"
     ]
    }
   ],
   "source": [
    "# lists of text types\n",
    "event_text = data_dict_text.Event.dropna(how='all').values.tolist()\n",
    "travel_text = data_dict_text.Travel.dropna(how='all').values.tolist()\n",
    "food_text = data_dict_text.Food.dropna(how='all').values.tolist()\n",
    "activity_text = data_dict_text.Activity.dropna(how='all').values.tolist()\n",
    "transport_text = data_dict_text.Transportation.dropna(how='all').values.tolist()\n",
    "people_text = data_dict_text.People.dropna(how='all').values.tolist()\n",
    "utility_text = data_dict_text.Utility.dropna(how='all').values.tolist()\n",
    "cash = data_dict_text.Cash.dropna(how='all').values.tolist()\n",
    "ilSarc = data_dict_text['Illegal/Sarcasm'].dropna(how='all').values.tolist()\n",
    "\n",
    "\n",
    "\n",
    "# text classification\n",
    "textEmoji_classified = textEmojiData.select(\"*\", \n",
    "    when(textEmojiData.description.rlike(\"|\".join([\"(\" + em + \")\" for em in event_text])), 'event')\\\n",
    " .when(textEmojiData.description.rlike(\"|\".join([\"(\" + em + \")\" for em in travel_text])), 'travel') \\\n",
    " .when(textEmojiData.description.rlike(\"|\".join([\"(\" + em + \")\" for em in food_text])), 'food')\\\n",
    " .when(textEmojiData.description.rlike(\"|\".join([\"(\" + em + \")\" for em in activity_text])), 'activity')\\\n",
    " .when(textEmojiData.description.rlike(\"|\".join([\"(\" + em + \")\" for em in transport_text])), 'transport')\\\n",
    " .when(textEmojiData.description.rlike(\"|\".join([\"(\" + em + \")\" for em in people_text])), 'people')\\\n",
    " .when(textEmojiData.description.rlike(\"|\".join([\"(\" + em + \")\" for em in utility_text])), 'utility')\\\n",
    " .when(textEmojiData.description.rlike(\"|\".join([\"(\" + em + \")\" for em in cash])), 'cash')\\\n",
    " .when(textEmojiData.description.rlike(\"|\".join([\"(\" + em + \")\" for em in ilSarc])), 'illegal/sarcasm')\\\n",
    " .otherwise('other').alias('class'))\n",
    "\n",
    "\n",
    "textEmoji_classified.createOrReplaceTempView(\"textEmoji_classified\")\n",
    "textEmoji_classified.show(20)"
   ]
  },
  {
   "cell_type": "markdown",
   "id": "9eb85332",
   "metadata": {
    "id": "9eb85332"
   },
   "source": [
    "## combine things together"
   ]
  },
  {
   "cell_type": "code",
   "execution_count": 14,
   "id": "be22864d",
   "metadata": {
    "colab": {
     "base_uri": "https://localhost:8080/"
    },
    "executionInfo": {
     "elapsed": 639562,
     "status": "ok",
     "timestamp": 1652508798506,
     "user": {
      "displayName": "Alex Udalov",
      "userId": "00364348746059271313"
     },
     "user_tz": 420
    },
    "id": "be22864d",
    "outputId": "02323b08-88f2-4a6b-caae-5fd09ab7a2e4"
   },
   "outputs": [
    {
     "name": "stdout",
     "output_type": "stream",
     "text": [
      "+--------------------+-------+-------------------+------------+---------+\n",
      "|            story_id| sender|           datetime| description|    class|\n",
      "+--------------------+-------+-------------------+------------+---------+\n",
      "|56b6a4cbcd03c9af2...|5392766|2016-02-07 09:58:35|      🍹🍹🍹|     food|\n",
      "|57261585cd03c9af2...|3085046|2016-05-01 21:41:09|         🐐⚽| activity|\n",
      "|55fee590cd03c9af2...|4115067|2015-09-20 23:57:52|    🚖 🍸 🍴|     food|\n",
      "|57bdf5d923e064eac...|5866457|2016-08-25 02:30:33|    ☕️☕️☕️☕️|     food|\n",
      "|58183a0523e064eac...| 569753|2016-11-01 13:45:25|          🌚|   people|\n",
      "|56a15709cd03c9af2...| 997377|2016-01-22 06:09:13|          🍸|     food|\n",
      "|563653a9cd03c9af2...|1391888|2015-11-02 02:02:17|        👧🏿|   people|\n",
      "|57dc62eb23e064eac...|8616850|2016-09-17 04:23:55|        🏋🏿| activity|\n",
      "|56f95a34cd03c9af2...|6486378|2016-03-28 23:22:12|          👽|   people|\n",
      "|5705329acd03c9af2...|1796055|2016-04-06 23:00:26|          📋|    other|\n",
      "|5770b15123e064eac...|4105582|2016-06-27 11:53:37|          🍔|     food|\n",
      "|56a50efecd03c9af2...|6652696|2016-01-25 01:50:54|    🚗🚕🚗🚕|transport|\n",
      "|572d675fcd03c9af2...| 210431|2016-05-07 10:56:14|          🎥|    event|\n",
      "|574f168ecd03c9af2...|3964451|2016-06-02 00:08:30|          🍋|     food|\n",
      "|54bc755dca134c404...| 489643|2015-01-19 11:09:17|      🚹🚺🚼|    other|\n",
      "|5706576bcd03c9af2...|1682624|2016-04-07 19:49:47|           ✈|transport|\n",
      "|55fcd438cd03c9af2...|6477124|2015-09-19 10:19:20|        🎂🎉|    event|\n",
      "|56796be6cd03c9af2...|6530388|2015-12-22 23:27:34|      🎄🎄🎄|    other|\n",
      "|571b42c1cd03c9af2...|6042723|2016-04-23 16:39:13|🌮🌯🌮🌯🌮🌯|     food|\n",
      "|5792454223e064eac...|7374096|2016-07-22 23:09:38|  🧀🍺🍺👶🏻|     food|\n",
      "+--------------------+-------+-------------------+------------+---------+\n",
      "only showing top 20 rows\n",
      "\n"
     ]
    }
   ],
   "source": [
    "# union text and emoji dataset\n",
    "venmoClassified = spark.sql('''\n",
    "select \n",
    "* \n",
    "from emoji_classified\n",
    "union \n",
    "select \n",
    "* \n",
    "from textEmoji_classified\n",
    "''')\n",
    "venmoClassified.createOrReplaceTempView(\"venmoClassified\")\n",
    "venmoClassified.show(20)"
   ]
  },
  {
   "cell_type": "markdown",
   "id": "55bf1f13",
   "metadata": {
    "id": "55bf1f13"
   },
   "source": [
    "\n",
    "## What is the percent of emoji only transactions? Which are the top 5 most popular emoji? Which are the top three most popular emoji categories? - Lets find out and do some calculations"
   ]
  },
  {
   "cell_type": "markdown",
   "id": "fd1647a1",
   "metadata": {
    "id": "fd1647a1"
   },
   "source": [
    "* What is the percent of emoji only transactions?"
   ]
  },
  {
   "cell_type": "code",
   "execution_count": 15,
   "id": "8baa9dfd",
   "metadata": {
    "colab": {
     "base_uri": "https://localhost:8080/"
    },
    "executionInfo": {
     "elapsed": 4294,
     "status": "ok",
     "timestamp": 1652508802786,
     "user": {
      "displayName": "Alex Udalov",
      "userId": "00364348746059271313"
     },
     "user_tz": 420
    },
    "id": "8baa9dfd",
    "outputId": "3c844c7f-a815-47fc-ac38-500541fee466"
   },
   "outputs": [
    {
     "data": {
      "text/plain": [
       "26.22"
      ]
     },
     "execution_count": 15,
     "metadata": {},
     "output_type": "execute_result"
    }
   ],
   "source": [
    "np.round(float(emojiOnlyData.count()/data1.count()),4)*100"
   ]
  },
  {
   "cell_type": "markdown",
   "id": "dc52be31",
   "metadata": {
    "id": "dc52be31"
   },
   "source": [
    "* Which are the top 5 most popular emoji?"
   ]
  },
  {
   "cell_type": "code",
   "execution_count": 16,
   "id": "064998a5",
   "metadata": {
    "colab": {
     "base_uri": "https://localhost:8080/"
    },
    "executionInfo": {
     "elapsed": 7613,
     "status": "ok",
     "timestamp": 1652508810385,
     "user": {
      "displayName": "Alex Udalov",
      "userId": "00364348746059271313"
     },
     "user_tz": 420
    },
    "id": "064998a5",
    "outputId": "2583acf3-89c5-4a57-f1a4-567615f1e3f9"
   },
   "outputs": [
    {
     "name": "stdout",
     "output_type": "stream",
     "text": [
      "+-----------+-----------+\n",
      "|description|emoji_count|\n",
      "+-----------+-----------+\n",
      "|         🍕|      46915|\n",
      "|         🍻|      34702|\n",
      "|         🍴|      27412|\n",
      "|       🏠💸|      25837|\n",
      "|         🍺|      23611|\n",
      "+-----------+-----------+\n",
      "\n"
     ]
    }
   ],
   "source": [
    "top5Emoji = spark.sql('''\n",
    "select\n",
    "description,\n",
    "count(*) as emoji_count\n",
    "from emojiOnlyData\n",
    "where 1=1\n",
    "group by 1\n",
    "order by 2 desc\n",
    "limit 5\n",
    ";\n",
    "''')\n",
    "top5Emoji.show()"
   ]
  },
  {
   "cell_type": "markdown",
   "id": "c21a5301",
   "metadata": {
    "id": "c21a5301"
   },
   "source": [
    "* Which are the top three most popular emoji categories?"
   ]
  },
  {
   "cell_type": "code",
   "execution_count": 17,
   "id": "e32e25ee",
   "metadata": {
    "colab": {
     "base_uri": "https://localhost:8080/"
    },
    "executionInfo": {
     "elapsed": 39926,
     "status": "ok",
     "timestamp": 1652508850298,
     "user": {
      "displayName": "Alex Udalov",
      "userId": "00364348746059271313"
     },
     "user_tz": 420
    },
    "id": "e32e25ee",
    "outputId": "2ed6815a-be54-4b92-bb19-6565bd073f6a",
    "scrolled": true
   },
   "outputs": [
    {
     "name": "stdout",
     "output_type": "stream",
     "text": [
      "+------+-----------+\n",
      "| class|emoji_count|\n",
      "+------+-----------+\n",
      "|  food|     642222|\n",
      "| other|     376665|\n",
      "|people|     326129|\n",
      "+------+-----------+\n",
      "\n"
     ]
    }
   ],
   "source": [
    "top3Cat = spark.sql('''\n",
    "select\n",
    "class,\n",
    "count(*) as emoji_count\n",
    "from emoji_classified\n",
    "where 1=1\n",
    "group by 1\n",
    "order by 2 desc\n",
    "limit 3\n",
    ";\n",
    "''')\n",
    "top3Cat.show()"
   ]
  },
  {
   "cell_type": "markdown",
   "id": "4a79dc46",
   "metadata": {
    "id": "4a79dc46"
   },
   "source": [
    "## For each user, I create a variable to indicate their spending behavior profile."
   ]
  },
  {
   "cell_type": "code",
   "execution_count": 18,
   "id": "ea0be8af",
   "metadata": {
    "colab": {
     "base_uri": "https://localhost:8080/"
    },
    "executionInfo": {
     "elapsed": 683714,
     "status": "ok",
     "timestamp": 1652509533999,
     "user": {
      "displayName": "Alex Udalov",
      "userId": "00364348746059271313"
     },
     "user_tz": 420
    },
    "id": "ea0be8af",
    "outputId": "5c3c6712-0db0-4d11-c39f-167c04cc4701"
   },
   "outputs": [
    {
     "name": "stdout",
     "output_type": "stream",
     "text": [
      "+------+---------------+-----------------+---------+\n",
      "|sender|          class|transaction_count|percSpend|\n",
      "+------+---------------+-----------------+---------+\n",
      "|     2|         people|                1|    100.0|\n",
      "|     3|       activity|                1|     17.0|\n",
      "|     3|          event|                1|     17.0|\n",
      "|     3|          other|                1|     17.0|\n",
      "|     3|         travel|                3|     50.0|\n",
      "|     4|       activity|                1|     17.0|\n",
      "|     4|           food|                1|     17.0|\n",
      "|     4|illegal/sarcasm|                1|     17.0|\n",
      "|     4|          other|                2|     33.0|\n",
      "|     4|         travel|                1|     17.0|\n",
      "|    10|       activity|                1|     10.0|\n",
      "|    10|           food|                4|     40.0|\n",
      "|    10|          other|                3|     30.0|\n",
      "|    10|         people|                1|     10.0|\n",
      "|    10|        utility|                1|     10.0|\n",
      "|    11|       activity|                3|     12.0|\n",
      "|    11|          event|                3|     12.0|\n",
      "|    11|           food|                5|     20.0|\n",
      "|    11|illegal/sarcasm|                1|      4.0|\n",
      "|    11|          other|                6|     24.0|\n",
      "+------+---------------+-----------------+---------+\n",
      "only showing top 20 rows\n",
      "\n"
     ]
    }
   ],
   "source": [
    "behavProfile = spark.sql('''\n",
    "select \n",
    "sender, \n",
    "class, \n",
    "count(*) as transaction_count,\n",
    "round(100*count(*)/sum(count(*)) over (partition by sender)) as percSpend\n",
    "from venmoClassified\n",
    "group by 1,2\n",
    "order by 1,2\n",
    ";\n",
    "''')\n",
    "behavProfile.createOrReplaceTempView(\"behavProfile\")\n",
    "behavProfile.show(20)"
   ]
  },
  {
   "cell_type": "markdown",
   "id": "4359c151",
   "metadata": {
    "id": "4359c151"
   },
   "source": [
    "## Dynamic Spending profile"
   ]
  },
  {
   "cell_type": "code",
   "execution_count": 19,
   "id": "b758d851",
   "metadata": {
    "colab": {
     "base_uri": "https://localhost:8080/"
    },
    "executionInfo": {
     "elapsed": 681382,
     "status": "ok",
     "timestamp": 1652510215366,
     "user": {
      "displayName": "Alex Udalov",
      "userId": "00364348746059271313"
     },
     "user_tz": 420
    },
    "id": "b758d851",
    "outputId": "cebff44d-f070-4820-f338-b2fb9bd42941"
   },
   "outputs": [
    {
     "name": "stdout",
     "output_type": "stream",
     "text": [
      "+--------------------+------+-------------------+---------------+--------------+\n",
      "|            story_id|sender|           datetime|          class|daysSinceFirst|\n",
      "+--------------------+------+-------------------+---------------+--------------+\n",
      "|54e419e6cd03c9af2...|     2|2012-11-23 06:03:42|         people|             0|\n",
      "|57f5c9d923e064eac...|     3|2016-10-06 10:49:45|         travel|            14|\n",
      "|57f7cf6423e064eac...|     3|2016-10-07 23:37:56|       activity|            15|\n",
      "|57f6ff6023e064eac...|     3|2016-10-07 08:50:23|          other|            15|\n",
      "|57e3969123e064eac...|     3|2016-09-22 15:30:09|         travel|             0|\n",
      "|57f9415823e064eac...|     3|2016-10-09 01:56:24|          event|            17|\n",
      "|57f958bd23e064eac...|     3|2016-10-09 03:36:13|         travel|            17|\n",
      "|5712a1fdcd03c9af2...|     4|2016-04-17 03:35:09|          other|          1231|\n",
      "|50cb9fed25ee44b9a...|     4|2012-12-15 05:51:12|          other|            12|\n",
      "|54e41a2ecd03c9af2...|     4|2012-12-03 03:35:53|           food|             0|\n",
      "|56d7c185cd03c9af2...|     4|2016-03-03 12:45:57|         travel|          1186|\n",
      "|52f01d75c62cecac3...|     4|2014-02-04 06:51:33|       activity|           428|\n",
      "|5580da2211615c78a...|     4|2015-06-17 09:23:30|illegal/sarcasm|           926|\n",
      "|50b172d925ee44b9a...|    10|2012-11-25 09:20:39|         people|             0|\n",
      "|50d6766b25ee44b9a...|    10|2012-12-23 11:08:45|          other|            28|\n",
      "|5132d71225ee44b9a...|    10|2013-03-03 12:47:10|          other|            98|\n",
      "|513cfec025ee44b9a...|    10|2013-03-11 04:38:51|        utility|           106|\n",
      "|54caad5fca134c404...|    10|2015-01-30 05:59:59|           food|           796|\n",
      "|50f34fc025ee44b9a...|    10|2013-01-14 08:18:43|           food|            50|\n",
      "|56ac5b45cd03c9af2...|    10|2016-01-30 14:42:13|          other|          1161|\n",
      "+--------------------+------+-------------------+---------------+--------------+\n",
      "only showing top 20 rows\n",
      "\n"
     ]
    }
   ],
   "source": [
    "daysFromFirst = spark.sql('''\n",
    "select\n",
    "story_id,\n",
    "sender, \n",
    "datetime, \n",
    "class, \n",
    "datediff(datetime, min(datetime) over (partition by sender)) as daysSinceFirst\n",
    "from venmoClassified\n",
    "group by 1,2,3,4\n",
    "order by 2\n",
    ";\n",
    "''')\n",
    "daysFromFirst.createOrReplaceTempView(\"daysFromFirst\")\n",
    "daysFromFirst.show(20)"
   ]
  },
  {
   "cell_type": "code",
   "execution_count": 20,
   "id": "6ce674c3",
   "metadata": {
    "colab": {
     "base_uri": "https://localhost:8080/"
    },
    "executionInfo": {
     "elapsed": 679382,
     "status": "ok",
     "timestamp": 1652510894734,
     "user": {
      "displayName": "Alex Udalov",
      "userId": "00364348746059271313"
     },
     "user_tz": 420
    },
    "id": "6ce674c3",
    "outputId": "877c0894-e67b-42d7-d725-b966b5a3d28f"
   },
   "outputs": [
    {
     "name": "stdout",
     "output_type": "stream",
     "text": [
      "+--------------------+------+-------------------+---------------+--------------+---------------+\n",
      "|            story_id|sender|           datetime|          class|daysSinceFirst|monthSinceFirst|\n",
      "+--------------------+------+-------------------+---------------+--------------+---------------+\n",
      "|54e419e6cd03c9af2...|     2|2012-11-23 06:03:42|         people|             0|              1|\n",
      "|57f5c9d923e064eac...|     3|2016-10-06 10:49:45|         travel|            14|              1|\n",
      "|57f7cf6423e064eac...|     3|2016-10-07 23:37:56|       activity|            15|              1|\n",
      "|57f6ff6023e064eac...|     3|2016-10-07 08:50:23|          other|            15|              1|\n",
      "|57e3969123e064eac...|     3|2016-09-22 15:30:09|         travel|             0|              1|\n",
      "|57f9415823e064eac...|     3|2016-10-09 01:56:24|          event|            17|              1|\n",
      "|57f958bd23e064eac...|     3|2016-10-09 03:36:13|         travel|            17|              1|\n",
      "|5712a1fdcd03c9af2...|     4|2016-04-17 03:35:09|          other|          1231|            12+|\n",
      "|50cb9fed25ee44b9a...|     4|2012-12-15 05:51:12|          other|            12|              1|\n",
      "|54e41a2ecd03c9af2...|     4|2012-12-03 03:35:53|           food|             0|              1|\n",
      "|56d7c185cd03c9af2...|     4|2016-03-03 12:45:57|         travel|          1186|            12+|\n",
      "|52f01d75c62cecac3...|     4|2014-02-04 06:51:33|       activity|           428|            12+|\n",
      "|5580da2211615c78a...|     4|2015-06-17 09:23:30|illegal/sarcasm|           926|            12+|\n",
      "|50b172d925ee44b9a...|    10|2012-11-25 09:20:39|         people|             0|              1|\n",
      "|50d6766b25ee44b9a...|    10|2012-12-23 11:08:45|          other|            28|              1|\n",
      "|5132d71225ee44b9a...|    10|2013-03-03 12:47:10|          other|            98|              4|\n",
      "|513cfec025ee44b9a...|    10|2013-03-11 04:38:51|        utility|           106|              4|\n",
      "|54caad5fca134c404...|    10|2015-01-30 05:59:59|           food|           796|            12+|\n",
      "|50f34fc025ee44b9a...|    10|2013-01-14 08:18:43|           food|            50|              2|\n",
      "|56ac5b45cd03c9af2...|    10|2016-01-30 14:42:13|          other|          1161|            12+|\n",
      "+--------------------+------+-------------------+---------------+--------------+---------------+\n",
      "only showing top 20 rows\n",
      "\n"
     ]
    }
   ],
   "source": [
    "monthSinceFirst = spark.sql('''\n",
    "select\n",
    "story_id,\n",
    "sender, \n",
    "datetime, \n",
    "class, \n",
    "daysSinceFirst,\n",
    "CASE\n",
    "when daysSinceFirst < 30 then 1\n",
    "when daysSinceFirst between 31 and 60 then 2\n",
    "when daysSinceFirst between 61 and 90 then 3\n",
    "when daysSinceFirst between 91 and 120 then 4\n",
    "when daysSinceFirst between 121 and 150 then 5\n",
    "when daysSinceFirst between 151 and 180 then 6\n",
    "when daysSinceFirst between 181 and 210 then 7\n",
    "when daysSinceFirst between 211 and 240 then 8\n",
    "when daysSinceFirst between 241 and 270 then 9\n",
    "when daysSinceFirst between 271 and 300 then 10\n",
    "when daysSinceFirst between 301 and 330 then 11\n",
    "when daysSinceFirst between 331 and 360 then 12\n",
    "else '12+'\n",
    "END monthSinceFirst\n",
    "from daysFromFirst\n",
    "group by 1,2,3,4,5\n",
    "order by 2\n",
    ";\n",
    "''')\n",
    "\n",
    "monthSinceFirst.createOrReplaceTempView(\"monthSinceFirst\")\n",
    "monthSinceFirst.show(20)"
   ]
  },
  {
   "cell_type": "code",
   "execution_count": 21,
   "id": "0c1ec3da",
   "metadata": {
    "colab": {
     "base_uri": "https://localhost:8080/"
    },
    "executionInfo": {
     "elapsed": 695322,
     "status": "ok",
     "timestamp": 1652511590042,
     "user": {
      "displayName": "Alex Udalov",
      "userId": "00364348746059271313"
     },
     "user_tz": 420
    },
    "id": "0c1ec3da",
    "outputId": "8d9fc79f-e998-4da2-ec5d-7d9829681a72"
   },
   "outputs": [
    {
     "name": "stdout",
     "output_type": "stream",
     "text": [
      "+------+---------------+---------------+---------+\n",
      "|sender|monthSinceFirst|          class|percSpend|\n",
      "+------+---------------+---------------+---------+\n",
      "|     2|              1|         people|      1.0|\n",
      "|     3|              1|       activity|     0.17|\n",
      "|     3|              1|          event|     0.17|\n",
      "|     3|              1|          other|     0.17|\n",
      "|     3|              1|         travel|      0.5|\n",
      "|     4|              1|           food|      0.5|\n",
      "|     4|              1|          other|      0.5|\n",
      "|     4|            12+|       activity|     0.25|\n",
      "|     4|            12+|illegal/sarcasm|     0.25|\n",
      "|     4|            12+|          other|     0.25|\n",
      "|     4|            12+|         travel|     0.25|\n",
      "|    10|              1|          other|      0.5|\n",
      "|    10|              1|         people|      0.5|\n",
      "|    10|            12+|           food|     0.67|\n",
      "|    10|            12+|          other|     0.33|\n",
      "|    10|              2|       activity|      0.5|\n",
      "|    10|              2|           food|      0.5|\n",
      "|    10|              4|          other|      0.5|\n",
      "|    10|              4|        utility|      0.5|\n",
      "|    10|              5|           food|      1.0|\n",
      "+------+---------------+---------------+---------+\n",
      "only showing top 20 rows\n",
      "\n"
     ]
    }
   ],
   "source": [
    "dynamicBehavProfile = spark.sql('''\n",
    "select \n",
    "sender,\n",
    "monthSinceFirst, \n",
    "class,\n",
    "round(count(*)/sum(count(*)) over (partition by sender, monthSinceFirst), 2) as percSpend\n",
    "from monthSinceFirst\n",
    "group by 1,2,3\n",
    "order by 1,2,3\n",
    "''')\n",
    "\n",
    "dynamicBehavProfile.createOrReplaceTempView(\"dynamicBehavProfile\")\n",
    "\n",
    "dynamicBehavProfile.show(20)"
   ]
  },
  {
   "cell_type": "code",
   "execution_count": 25,
   "id": "f950a8ee",
   "metadata": {
    "colab": {
     "base_uri": "https://localhost:8080/"
    },
    "executionInfo": {
     "elapsed": 762110,
     "status": "ok",
     "timestamp": 1652513310605,
     "user": {
      "displayName": "Alex Udalov",
      "userId": "00364348746059271313"
     },
     "user_tz": 420
    },
    "id": "f950a8ee",
    "outputId": "4510ef83-0755-4c3e-8dd4-83d737470b67"
   },
   "outputs": [
    {
     "name": "stdout",
     "output_type": "stream",
     "text": [
      "+---------------+---------------+------------------+-------------------+\n",
      "|monthSinceFirst|          class|     avgSpendShare|            stdev_2|\n",
      "+---------------+---------------+------------------+-------------------+\n",
      "|              1|       activity|0.8957723765461386|0.42762180039204495|\n",
      "|              1|           cash|0.8748865658362975| 0.4637652761018029|\n",
      "|              1|          event|0.8907203976165594| 0.4367627150943618|\n",
      "|              1|           food|0.8939501593212524| 0.4276189178162368|\n",
      "|              1|illegal/sarcasm|0.8694778907026951|  0.469085232517325|\n",
      "|              1|          other|0.9250370206306413| 0.3650198903672899|\n",
      "|              1|         people|0.8815255008750112| 0.4485559419096847|\n",
      "|              1|      transport|0.8711132863618756| 0.4660885581843485|\n",
      "|              1|         travel|0.8828897711051297|0.44888197950290265|\n",
      "|              1|        utility|0.8844147744334853|0.44554692167067383|\n",
      "|             10|       activity|0.8485211602472646|0.49691341652465626|\n",
      "|             10|           cash|0.8172239108409324| 0.5274701130347053|\n",
      "|             10|          event|0.8452451451643902| 0.5030556724351349|\n",
      "|             10|           food|0.8651252802690587|0.47274606995742047|\n",
      "|             10|illegal/sarcasm| 0.820089162182935| 0.5294330488261771|\n",
      "|             10|          other|0.9058556463791744| 0.4015820693481804|\n",
      "|             10|         people| 0.851774772408964|0.49198460590710313|\n",
      "|             10|      transport|0.8272729398012845| 0.5211504502187269|\n",
      "|             10|         travel|0.8345361866274786|  0.515997219399506|\n",
      "|             10|        utility| 0.851020525451559| 0.4934223773363346|\n",
      "+---------------+---------------+------------------+-------------------+\n",
      "only showing top 20 rows\n",
      "\n"
     ]
    }
   ],
   "source": [
    "dataToPlot = spark.sql('''\n",
    "select\n",
    "monthSinceFirst,\n",
    "class,\n",
    "avg(percSpend) as avgSpendShare,\n",
    "2*std(percSpend) as stdev_2\n",
    "from dynamicBehavProfile\n",
    "where 1=1\n",
    "and monthSinceFirst not in('12+')\n",
    "group by 1,2\n",
    "order by 1,2\n",
    "''')\n",
    "\n",
    "dataToPlot.createOrReplaceTempView(\"dataToPlot\")\n",
    "dataToPlot.show(20)"
   ]
  },
  {
   "cell_type": "code",
   "execution_count": 26,
   "id": "2f285d3e",
   "metadata": {
    "executionInfo": {
     "elapsed": 750339,
     "status": "ok",
     "timestamp": 1652514060940,
     "user": {
      "displayName": "Alex Udalov",
      "userId": "00364348746059271313"
     },
     "user_tz": 420
    },
    "id": "2f285d3e"
   },
   "outputs": [],
   "source": [
    "pdToPlot = dataToPlot.toPandas()"
   ]
  },
  {
   "cell_type": "code",
   "execution_count": 36,
   "id": "P9hNN6DWhoJN",
   "metadata": {
    "colab": {
     "base_uri": "https://localhost:8080/",
     "height": 206
    },
    "executionInfo": {
     "elapsed": 152,
     "status": "ok",
     "timestamp": 1652514413333,
     "user": {
      "displayName": "Alex Udalov",
      "userId": "00364348746059271313"
     },
     "user_tz": 420
    },
    "id": "P9hNN6DWhoJN",
    "outputId": "e39ac915-3aaf-40c8-b660-047ea7ee92a5"
   },
   "outputs": [
    {
     "data": {
      "text/html": [
       "\n",
       "  <div id=\"df-a7b4312b-22ae-4ee9-932f-dd1f5a56c54b\">\n",
       "    <div class=\"colab-df-container\">\n",
       "      <div>\n",
       "<style scoped>\n",
       "    .dataframe tbody tr th:only-of-type {\n",
       "        vertical-align: middle;\n",
       "    }\n",
       "\n",
       "    .dataframe tbody tr th {\n",
       "        vertical-align: top;\n",
       "    }\n",
       "\n",
       "    .dataframe thead th {\n",
       "        text-align: right;\n",
       "    }\n",
       "</style>\n",
       "<table border=\"1\" class=\"dataframe\">\n",
       "  <thead>\n",
       "    <tr style=\"text-align: right;\">\n",
       "      <th></th>\n",
       "      <th>monthSinceFirst</th>\n",
       "      <th>class</th>\n",
       "      <th>avgSpendShare</th>\n",
       "      <th>stdev_2</th>\n",
       "    </tr>\n",
       "  </thead>\n",
       "  <tbody>\n",
       "    <tr>\n",
       "      <th>0</th>\n",
       "      <td>1</td>\n",
       "      <td>activity</td>\n",
       "      <td>0.895772</td>\n",
       "      <td>0.427622</td>\n",
       "    </tr>\n",
       "    <tr>\n",
       "      <th>1</th>\n",
       "      <td>1</td>\n",
       "      <td>cash</td>\n",
       "      <td>0.874887</td>\n",
       "      <td>0.463765</td>\n",
       "    </tr>\n",
       "    <tr>\n",
       "      <th>2</th>\n",
       "      <td>1</td>\n",
       "      <td>event</td>\n",
       "      <td>0.890720</td>\n",
       "      <td>0.436763</td>\n",
       "    </tr>\n",
       "    <tr>\n",
       "      <th>3</th>\n",
       "      <td>1</td>\n",
       "      <td>food</td>\n",
       "      <td>0.893950</td>\n",
       "      <td>0.427619</td>\n",
       "    </tr>\n",
       "    <tr>\n",
       "      <th>4</th>\n",
       "      <td>1</td>\n",
       "      <td>illegal/sarcasm</td>\n",
       "      <td>0.869478</td>\n",
       "      <td>0.469085</td>\n",
       "    </tr>\n",
       "  </tbody>\n",
       "</table>\n",
       "</div>\n",
       "      <button class=\"colab-df-convert\" onclick=\"convertToInteractive('df-a7b4312b-22ae-4ee9-932f-dd1f5a56c54b')\"\n",
       "              title=\"Convert this dataframe to an interactive table.\"\n",
       "              style=\"display:none;\">\n",
       "        \n",
       "  <svg xmlns=\"http://www.w3.org/2000/svg\" height=\"24px\"viewBox=\"0 0 24 24\"\n",
       "       width=\"24px\">\n",
       "    <path d=\"M0 0h24v24H0V0z\" fill=\"none\"/>\n",
       "    <path d=\"M18.56 5.44l.94 2.06.94-2.06 2.06-.94-2.06-.94-.94-2.06-.94 2.06-2.06.94zm-11 1L8.5 8.5l.94-2.06 2.06-.94-2.06-.94L8.5 2.5l-.94 2.06-2.06.94zm10 10l.94 2.06.94-2.06 2.06-.94-2.06-.94-.94-2.06-.94 2.06-2.06.94z\"/><path d=\"M17.41 7.96l-1.37-1.37c-.4-.4-.92-.59-1.43-.59-.52 0-1.04.2-1.43.59L10.3 9.45l-7.72 7.72c-.78.78-.78 2.05 0 2.83L4 21.41c.39.39.9.59 1.41.59.51 0 1.02-.2 1.41-.59l7.78-7.78 2.81-2.81c.8-.78.8-2.07 0-2.86zM5.41 20L4 18.59l7.72-7.72 1.47 1.35L5.41 20z\"/>\n",
       "  </svg>\n",
       "      </button>\n",
       "      \n",
       "  <style>\n",
       "    .colab-df-container {\n",
       "      display:flex;\n",
       "      flex-wrap:wrap;\n",
       "      gap: 12px;\n",
       "    }\n",
       "\n",
       "    .colab-df-convert {\n",
       "      background-color: #E8F0FE;\n",
       "      border: none;\n",
       "      border-radius: 50%;\n",
       "      cursor: pointer;\n",
       "      display: none;\n",
       "      fill: #1967D2;\n",
       "      height: 32px;\n",
       "      padding: 0 0 0 0;\n",
       "      width: 32px;\n",
       "    }\n",
       "\n",
       "    .colab-df-convert:hover {\n",
       "      background-color: #E2EBFA;\n",
       "      box-shadow: 0px 1px 2px rgba(60, 64, 67, 0.3), 0px 1px 3px 1px rgba(60, 64, 67, 0.15);\n",
       "      fill: #174EA6;\n",
       "    }\n",
       "\n",
       "    [theme=dark] .colab-df-convert {\n",
       "      background-color: #3B4455;\n",
       "      fill: #D2E3FC;\n",
       "    }\n",
       "\n",
       "    [theme=dark] .colab-df-convert:hover {\n",
       "      background-color: #434B5C;\n",
       "      box-shadow: 0px 1px 3px 1px rgba(0, 0, 0, 0.15);\n",
       "      filter: drop-shadow(0px 1px 2px rgba(0, 0, 0, 0.3));\n",
       "      fill: #FFFFFF;\n",
       "    }\n",
       "  </style>\n",
       "\n",
       "      <script>\n",
       "        const buttonEl =\n",
       "          document.querySelector('#df-a7b4312b-22ae-4ee9-932f-dd1f5a56c54b button.colab-df-convert');\n",
       "        buttonEl.style.display =\n",
       "          google.colab.kernel.accessAllowed ? 'block' : 'none';\n",
       "\n",
       "        async function convertToInteractive(key) {\n",
       "          const element = document.querySelector('#df-a7b4312b-22ae-4ee9-932f-dd1f5a56c54b');\n",
       "          const dataTable =\n",
       "            await google.colab.kernel.invokeFunction('convertToInteractive',\n",
       "                                                     [key], {});\n",
       "          if (!dataTable) return;\n",
       "\n",
       "          const docLinkHtml = 'Like what you see? Visit the ' +\n",
       "            '<a target=\"_blank\" href=https://colab.research.google.com/notebooks/data_table.ipynb>data table notebook</a>'\n",
       "            + ' to learn more about interactive tables.';\n",
       "          element.innerHTML = '';\n",
       "          dataTable['output_type'] = 'display_data';\n",
       "          await google.colab.output.renderOutput(dataTable, element);\n",
       "          const docLink = document.createElement('div');\n",
       "          docLink.innerHTML = docLinkHtml;\n",
       "          element.appendChild(docLink);\n",
       "        }\n",
       "      </script>\n",
       "    </div>\n",
       "  </div>\n",
       "  "
      ],
      "text/plain": [
       "   monthSinceFirst            class  avgSpendShare   stdev_2\n",
       "0                1         activity       0.895772  0.427622\n",
       "1                1             cash       0.874887  0.463765\n",
       "2                1            event       0.890720  0.436763\n",
       "3                1             food       0.893950  0.427619\n",
       "4                1  illegal/sarcasm       0.869478  0.469085"
      ]
     },
     "execution_count": 36,
     "metadata": {},
     "output_type": "execute_result"
    }
   ],
   "source": [
    "pdToPlot.monthSinceFirst = pd.to_numeric(pdToPlot.monthSinceFirst)\n",
    "pdToPlot.head(5)"
   ]
  },
  {
   "cell_type": "code",
   "execution_count": 35,
   "id": "d3222cd1",
   "metadata": {
    "colab": {
     "base_uri": "https://localhost:8080/",
     "height": 606
    },
    "executionInfo": {
     "elapsed": 776,
     "status": "ok",
     "timestamp": 1652514383759,
     "user": {
      "displayName": "Alex Udalov",
      "userId": "00364348746059271313"
     },
     "user_tz": 420
    },
    "id": "d3222cd1",
    "outputId": "aa6f79e4-ac49-4c2d-fcc2-7514780119af"
   },
   "outputs": [
    {
     "data": {
      "image/png": "[encoded data removed]",
      "text/plain": [
       "<Figure size 1440x720 with 1 Axes>"
      ]
     },
     "metadata": {
      "needs_background": "light"
     },
     "output_type": "display_data"
    }
   ],
   "source": [
    "fig, ax = plt.subplots(figsize=(20, 10))\n",
    "\n",
    "for key, group in pdToPlot.groupby('class'):\n",
    "    group.plot('monthSinceFirst', 'avgSpendShare', yerr='stdev_2', label=key, ax=ax) \n",
    "\n",
    "plt.show()"
   ]
  }
 ],
 "metadata": {
  "colab": {
   "collapsed_sections": [],
   "name": "EmojiText.ipynb",
   "provenance": []
  },
  "kernelspec": {
   "display_name": "Python 3 (ipykernel)",
   "language": "python",
   "name": "python3"
  },
  "language_info": {
   "codemirror_mode": {
    "name": "ipython",
    "version": 3
   },
   "file_extension": ".py",
   "mimetype": "text/x-python",
   "name": "python",
   "nbconvert_exporter": "python",
   "pygments_lexer": "ipython3",
   "version": "3.8.5"
  }
 },
 "nbformat": 4,
 "nbformat_minor": 5
}
